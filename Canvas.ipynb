{
 "cells": [
  {
   "cell_type": "code",
   "execution_count": null,
   "metadata": {},
   "outputs": [],
   "source": [
    "import cv2\n",
    "import numpy as np\n",
    "\n",
    "canvas = np.zeros((512,512, 3), np.uint8)\n",
    "cv2.line(canvas, (0, 0), (511, 511), (255, 0, 0), 3)\n",
    "cv2.rectangle(canvas, (0, 0), (400, 400), (0, 255, 0), 11)\n",
    "cv2.putText(canvas, \"Over 9000\", \n",
    "\t(200, 200),\n",
    "\tcv2.FONT_HERSHEY_SIMPLEX,\n",
    "\t1, \n",
    "\t(0, 0, 255), 2)\n",
    "\n",
    "cv2.imshow(\"Canvas\", canvas)\n",
    "cv2.waitKey(0)"
   ]
  },
  {
   "cell_type": "code",
   "execution_count": null,
   "metadata": {},
   "outputs": [],
   "source": []
  }
 ],
 "metadata": {
  "kernelspec": {
   "display_name": "Python 3",
   "language": "python",
   "name": "python3"
  },
  "language_info": {
   "codemirror_mode": {
    "name": "ipython",
    "version": 3
   },
   "file_extension": ".py",
   "mimetype": "text/x-python",
   "name": "python",
   "nbconvert_exporter": "python",
   "pygments_lexer": "ipython3",
   "version": "3.9.0"
  }
 },
 "nbformat": 4,
 "nbformat_minor": 4
}
